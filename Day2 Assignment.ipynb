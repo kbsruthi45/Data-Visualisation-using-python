{
 "cells": [
  {
   "cell_type": "markdown",
   "metadata": {},
   "source": [
    "<h1>Data visualisation using python</h1>\n",
    "<p>K B Sruthi</p>\n",
    "<p>Day 2 assignment</p>"
   ]
  },
  {
   "cell_type": "code",
   "execution_count": 6,
   "metadata": {},
   "outputs": [],
   "source": [
    "import numpy as np\n",
    "import pandas as pd\n",
    "import seaborn as sns\n",
    "import matplotlib as mpl\n",
    "import matplotlib.pyplot as plt\n",
    "%matplotlib inline\n",
    "from numpy.random import randn,randint,uniform,sample"
   ]
  },
  {
   "cell_type": "code",
   "execution_count": 13,
   "metadata": {},
   "outputs": [
    {
     "data": {
      "text/html": [
       "<div>\n",
       "<style scoped>\n",
       "    .dataframe tbody tr th:only-of-type {\n",
       "        vertical-align: middle;\n",
       "    }\n",
       "\n",
       "    .dataframe tbody tr th {\n",
       "        vertical-align: top;\n",
       "    }\n",
       "\n",
       "    .dataframe thead th {\n",
       "        text-align: right;\n",
       "    }\n",
       "</style>\n",
       "<table border=\"1\" class=\"dataframe\">\n",
       "  <thead>\n",
       "    <tr style=\"text-align: right;\">\n",
       "      <th></th>\n",
       "      <th>a</th>\n",
       "      <th>b</th>\n",
       "      <th>c</th>\n",
       "      <th>d</th>\n",
       "    </tr>\n",
       "  </thead>\n",
       "  <tbody>\n",
       "    <tr>\n",
       "      <th>0</th>\n",
       "      <td>1.195778</td>\n",
       "      <td>-0.158737</td>\n",
       "      <td>0.187321</td>\n",
       "      <td>0.008302</td>\n",
       "    </tr>\n",
       "    <tr>\n",
       "      <th>1</th>\n",
       "      <td>-1.049693</td>\n",
       "      <td>0.154237</td>\n",
       "      <td>-0.092405</td>\n",
       "      <td>-0.646209</td>\n",
       "    </tr>\n",
       "    <tr>\n",
       "      <th>2</th>\n",
       "      <td>0.654780</td>\n",
       "      <td>1.184274</td>\n",
       "      <td>1.752521</td>\n",
       "      <td>-1.991044</td>\n",
       "    </tr>\n",
       "    <tr>\n",
       "      <th>3</th>\n",
       "      <td>-0.231491</td>\n",
       "      <td>0.197471</td>\n",
       "      <td>0.040219</td>\n",
       "      <td>1.208500</td>\n",
       "    </tr>\n",
       "    <tr>\n",
       "      <th>4</th>\n",
       "      <td>1.241227</td>\n",
       "      <td>-0.435210</td>\n",
       "      <td>0.357086</td>\n",
       "      <td>0.355081</td>\n",
       "    </tr>\n",
       "    <tr>\n",
       "      <th>5</th>\n",
       "      <td>0.236048</td>\n",
       "      <td>-0.568291</td>\n",
       "      <td>-0.260057</td>\n",
       "      <td>-0.327957</td>\n",
       "    </tr>\n",
       "    <tr>\n",
       "      <th>6</th>\n",
       "      <td>-1.478691</td>\n",
       "      <td>0.730831</td>\n",
       "      <td>-0.186397</td>\n",
       "      <td>0.355334</td>\n",
       "    </tr>\n",
       "    <tr>\n",
       "      <th>7</th>\n",
       "      <td>0.103658</td>\n",
       "      <td>-0.673652</td>\n",
       "      <td>-0.886111</td>\n",
       "      <td>0.919061</td>\n",
       "    </tr>\n",
       "    <tr>\n",
       "      <th>8</th>\n",
       "      <td>-0.626992</td>\n",
       "      <td>-0.445108</td>\n",
       "      <td>0.279894</td>\n",
       "      <td>0.785427</td>\n",
       "    </tr>\n",
       "    <tr>\n",
       "      <th>9</th>\n",
       "      <td>2.103619</td>\n",
       "      <td>0.387230</td>\n",
       "      <td>-0.987068</td>\n",
       "      <td>-0.593098</td>\n",
       "    </tr>\n",
       "  </tbody>\n",
       "</table>\n",
       "</div>"
      ],
      "text/plain": [
       "          a         b         c         d\n",
       "0  1.195778 -0.158737  0.187321  0.008302\n",
       "1 -1.049693  0.154237 -0.092405 -0.646209\n",
       "2  0.654780  1.184274  1.752521 -1.991044\n",
       "3 -0.231491  0.197471  0.040219  1.208500\n",
       "4  1.241227 -0.435210  0.357086  0.355081\n",
       "5  0.236048 -0.568291 -0.260057 -0.327957\n",
       "6 -1.478691  0.730831 -0.186397  0.355334\n",
       "7  0.103658 -0.673652 -0.886111  0.919061\n",
       "8 -0.626992 -0.445108  0.279894  0.785427\n",
       "9  2.103619  0.387230 -0.987068 -0.593098"
      ]
     },
     "execution_count": 13,
     "metadata": {},
     "output_type": "execute_result"
    }
   ],
   "source": [
    "df=pd.DataFrame(randn(10,4),columns=['a','b','c','d'])\n",
    "df\n"
   ]
  },
  {
   "cell_type": "code",
   "execution_count": null,
   "metadata": {},
   "outputs": [],
   "source": []
  },
  {
   "cell_type": "code",
   "execution_count": 12,
   "metadata": {},
   "outputs": [
    {
     "data": {
      "text/plain": [
       "<AxesSubplot:title={'center':'Bar plot'}, xlabel='x axis', ylabel='y axis'>"
      ]
     },
     "execution_count": 12,
     "metadata": {},
     "output_type": "execute_result"
    },
    {
     "data": {
      "image/png": "[encoded data removed]",
      "text/plain": [
       "<Figure size 432x288 with 1 Axes>"
      ]
     },
     "metadata": {
      "needs_background": "light"
     },
     "output_type": "display_data"
    }
   ],
   "source": [
    "df.plot.bar(title=\"Bar plot\",xlabel=\"x axis\",ylabel=\"y axis\")"
   ]
  }
 ],
 "metadata": {
  "kernelspec": {
   "display_name": "Python 3",
   "language": "python",
   "name": "python3"
  },
  "language_info": {
   "codemirror_mode": {
    "name": "ipython",
    "version": 3
   },
   "file_extension": ".py",
   "mimetype": "text/x-python",
   "name": "python",
   "nbconvert_exporter": "python",
   "pygments_lexer": "ipython3",
   "version": "3.8.5"
  }
 },
 "nbformat": 4,
 "nbformat_minor": 4
}
